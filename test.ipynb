{
 "cells": [
  {
   "cell_type": "code",
   "execution_count": 92,
   "metadata": {},
   "outputs": [],
   "source": [
    "# pip install selenium\n",
    "# pip install beautifulsoup4\n",
    "# pip install webdriver-manager\n",
    "from selenium import webdriver\n",
    "from selenium.webdriver import Chrome\n",
    "from selenium.webdriver.chrome.service import Service\n",
    "from selenium.webdriver.chrome.options import Options\n",
    "from selenium.webdriver.common.by import By\n",
    "import time\n",
    "import json"
   ]
  },
  {
   "cell_type": "code",
   "execution_count": 93,
   "metadata": {},
   "outputs": [],
   "source": [
    "server = Service('chromedriver.exe')"
   ]
  },
  {
   "cell_type": "code",
   "execution_count": 94,
   "metadata": {},
   "outputs": [],
   "source": [
    "options = webdriver.ChromeOptions()"
   ]
  },
  {
   "cell_type": "code",
   "execution_count": 95,
   "metadata": {},
   "outputs": [],
   "source": [
    "options.add_argument('--headless')"
   ]
  },
  {
   "cell_type": "code",
   "execution_count": 96,
   "metadata": {},
   "outputs": [],
   "source": [
    "# 規避 bug\n",
    "options.add_argument('--disable-gpu')"
   ]
  },
  {
   "cell_type": "code",
   "execution_count": 97,
   "metadata": {},
   "outputs": [],
   "source": [
    "# 最高權限\n",
    "options.add_argument('--no-sandbox')"
   ]
  },
  {
   "cell_type": "code",
   "execution_count": 98,
   "metadata": {},
   "outputs": [],
   "source": [
    "options.add_argument('--disable-dev-shm-usage')"
   ]
  },
  {
   "cell_type": "code",
   "execution_count": 99,
   "metadata": {},
   "outputs": [],
   "source": [
    "url = 'https://www.google.com.tw'"
   ]
  },
  {
   "cell_type": "code",
   "execution_count": 100,
   "metadata": {},
   "outputs": [],
   "source": [
    "# DeprecationWarning: use options instead of chrome_options 參數棄用\n",
    "# dirver = webdriver.Chrome('chromedriver', chrome_options = options)\n",
    "# driver = webdriver.Chrome('chromedriver.exe', options = options)\n",
    "# driver.get(url)"
   ]
  },
  {
   "cell_type": "code",
   "execution_count": 101,
   "metadata": {},
   "outputs": [],
   "source": [
    "driver = webdriver.Chrome(service = server)\n",
    "driver.get(url)"
   ]
  },
  {
   "cell_type": "code",
   "execution_count": 102,
   "metadata": {},
   "outputs": [],
   "source": [
    "search = driver.find_element(By.NAME, 'q')"
   ]
  },
  {
   "cell_type": "code",
   "execution_count": 103,
   "metadata": {},
   "outputs": [],
   "source": [
    "word = str(input())"
   ]
  },
  {
   "cell_type": "code",
   "execution_count": 104,
   "metadata": {},
   "outputs": [],
   "source": [
    "search.send_keys(word)\n",
    "search.submit()"
   ]
  },
  {
   "cell_type": "code",
   "execution_count": 115,
   "metadata": {},
   "outputs": [
    {
     "name": "stdout",
     "output_type": "stream",
     "text": [
      "多良火車站 - 台東觀光旅遊網\n",
      "https://tour.taitung.gov.tw › zh-tw › attraction › details\n",
      "多良車站位於台東縣太麻里，原為排灣族「打腊打蘭社」所在地，日治時期更名為「多多良」，可愛的名稱讓人會心一笑。在南迴鐵路設站時，將地名簡化為「多良」。多良車站原本 ...\n",
      "\n",
      "多良火車站 - 台東觀光旅遊網\n",
      "https://tour.taitung.gov.tw › ...\n",
      "高架設計的車站坐擁美麗的海景，月台上的紅色欄杆亮眼了整個海岸，迎面駛來的是緩慢 ... 多良火車站現已成為南迴公路的著名觀光景點，站在觀景台上可清楚眺望行駛中的 ...\n",
      "多良車站| 台東太麻里景點| 最新收費＆交通＆美食&附近 ...\n",
      "https://www.welcometw.com › 多良車站-台東太麻里景點...\n",
      "被票選為全臺灣最美車站的多良車站，原先作為招呼站，提供列車交會的場所。由於兩側都是山坡地，所以特別將多良車站以高架設計，也因這樣，只要站在月台上即可鳥瞰 ...\n",
      "▶️台東經典景點： ▶️台東必吃美食\n",
      "▶️台東近期活動： ▶️台東怎麼玩－懶人包\n",
      "▶️台東外島旅遊： ▶️台東溫泉\n",
      "台東熱氣球｜： 台東景點｜池上景點｜; 關山景點...\n",
      "評分：5 · 3 票\n",
      "多良車站｜簡介 · 多良車站｜收費&交通 · 多良車站｜好玩特色\n",
      "多良車站(台灣) - 维基百科，自由的百科全书\n",
      "https://zh.m.wikipedia.org › zh-tw › 多良車站_(台灣)\n",
      "多良車站為台灣臺東縣太麻里鄉境內，臺灣鐵路管理局南迴線之已廢止鐵路車站，有台灣最美車站之稱，預計於2024年3月復站。 多良車站. Duoliang Station. 多良火車站.jpg.\n",
      "站体类型： 高架車站\n",
      "车站等级： 招呼站（裁撤前）\n",
      "车站代码： 214\n",
      "位置： 臺灣臺東縣太麻里鄉多良村瀧溪8-1號\n",
      "[遊記]【台東景點】多良車站。車站雖裁撤卻裁不掉它的美│ ...\n",
      "https://ichiro0910.pixnet.net › blog › post › 30390030-...\n",
      "[遊記]【台東景點】多良車站。車站雖裁撤卻裁不掉它的美│海景最美秘境│無敵海景、海天一線景色│來台東必去景點│大麻里景點/怎麼去/火車時刻表/交通/東部景點/台東景點/ ...\n",
      "多良車站> 觀光景點\n",
      "https://www.taiwan.net.tw › ...\n",
      "多良車站位於臺九線417.5公里處。站址原本為山坡地，兩端均為隧道，南迴鐵路工程處特別將車站以高架設計，一樓為候車室 ...\n",
      "【台東】多良車站海景依舊唯美可惜多了電桿電線 ... - 涼子是也\n",
      "https://lyes.tw › blog › post › 33614656-多良車站\n",
      "2022年5月2日 — 「多良車站」能鳥瞰太平洋海岸，擁有海天相連的絕美景緻，所以曾有「全台灣最美車站」的美譽，也常在滑FB 、IG 時被多良車站的美照驚豔到。\n",
      "多良觀光車站介紹、交通地圖、周遭景點、住宿、必買票券總 ...\n",
      "https://www.settour.com.tw › 台灣 › 多良觀光車站\n",
      "多良火車站因站址原為山坡地，南迴鐵路工程處特別將車站以高架設計，站在此處可鳥瞰太平洋，被譽為全臺灣最美的車站，吸引許多鐵道迷前來朝聖。 多良觀光車站介紹資訊.\n",
      "【台東旅遊】台灣最美的車站- 多良車站 阿底旦文化故事館\n",
      "https://ann319999.pixnet.net › blog › post › 32296262...\n",
      "2022年3月25日 — 多良車站▻ 地址： 台東縣太麻里鄉多良村瀧溪路8-1號▻FB :跟著愛莉玩樂趣▻追蹤愛莉IG ▻包車旅遊/主題旅遊需求表單湛藍的太平洋，有三層顏色， ...\n",
      "台東》多良車站美麗海景，美拍多良地標與天使翅膀\n",
      "https://bunnyann.com › 戶外休閒\n",
      "2021年3月23日 — 台東好失望景點多良車站，相傳到台東一定要到多良車站，欣賞列車通過靠海車站的美景，以及美拍多良地標和天使翅膀，但實際到了現場落差真是大，果然， ...\n",
      "顯示相片\n",
      "看看外部環境\n",
      "多良車站\n",
      "行車路線\n",
      "儲存\n",
      "3.6\n",
      "300 則 Google 評論\n",
      "大眾運輸站\n",
      "說明\n",
      "多良車站為台灣臺東縣太麻里鄉境內，臺灣鐵路管理局南迴線之已廢止鐵路車站，有台灣最美車站之稱，預計於2024年3月復站。 維基百科\n",
      "地址： 963台東縣太麻里鄉\n",
      "落成： 1992 年 10 月 5 日\n",
      "提出修改建議\n",
      "\n",
      "\n",
      "問題和解答\n",
      "提出問題\n",
      "查看所有問題 (3)\n",
      "網路上的評論\n",
      "5/5好好玩台灣 · 3 票\n",
      "評論\n",
      "撰寫評論\n",
      "新增相片\n",
      "\"現場的原住民美食攤位，倒是意外的好吃的，完全不輸大餐廳，可以看我照片中的提示。\"\n",
      "\"人超多 不過 視野超級棒 香腸好好吃！推薦 馬告山豬香腸❤\"\n",
      "\"門票要十元 裡面有攤販、廁所 有一家烤肉捲餅還不錯吃 出口跟入口不同 指標很清楚\"\n",
      "查看所有 Google 評論\n",
      "其他人也搜尋了以下項目\n",
      "查看更多項目 (超過 10 項)\n",
      "多良觀光車站\n",
      "金崙站\n",
      "向陽薪傳木工坊\n",
      "瀧溪站\n",
      "關於此資料\n",
      "意見回饋\n"
     ]
    }
   ],
   "source": [
    "path = 'word.txt'\n",
    "web_search = driver.find_elements(By.CLASS_NAME, 'g')\n",
    "for search in web_search:\n",
    "    file = open(path, 'w', encoding = 'utf-8')\n",
    "    file.writelines(search.text)\n",
    "    file.flush()\n",
    "    print(search.text)\n",
    "file.close()"
   ]
  }
 ],
 "metadata": {
  "kernelspec": {
   "display_name": "Python 3.10.7 64-bit",
   "language": "python",
   "name": "python3"
  },
  "language_info": {
   "codemirror_mode": {
    "name": "ipython",
    "version": 3
   },
   "file_extension": ".py",
   "mimetype": "text/x-python",
   "name": "python",
   "nbconvert_exporter": "python",
   "pygments_lexer": "ipython3",
   "version": "3.10.7"
  },
  "orig_nbformat": 4,
  "vscode": {
   "interpreter": {
    "hash": "98269d7468ab5ced2ea01f21b3fed4d546a958fb8757c3a2d8ef5c6119edc90e"
   }
  }
 },
 "nbformat": 4,
 "nbformat_minor": 2
}
